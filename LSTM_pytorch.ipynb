{
 "cells": [
  {
   "cell_type": "code",
   "execution_count": 1,
   "metadata": {},
   "outputs": [
    {
     "name": "stdout",
     "output_type": "stream",
     "text": [
      "cuda:0\n"
     ]
    }
   ],
   "source": [
    "import torch\n",
    "import torch.nn as nn\n",
    "import torch.nn.functional as F\n",
    "import torch.optim as optim\n",
    "import torch.optim.lr_scheduler as lr_scheduler\n",
    "from torch.utils.data import Dataset, DataLoader, random_split\n",
    "import numpy as np\n",
    "import random\n",
    "import os\n",
    "import math\n",
    "\n",
    "#use GPU running\n",
    "device = torch.device(\"cuda:0\" if torch.cuda.is_available() else \"cpu\")\n",
    "print(device)"
   ]
  },
  {
   "cell_type": "code",
   "execution_count": 2,
   "metadata": {},
   "outputs": [
    {
     "name": "stdout",
     "output_type": "stream",
     "text": [
      "16800\n",
      "28000\n",
      "[5209.9303 9194.304 ]\n",
      "[   0.     5242.8832 9167.2133]\n"
     ]
    }
   ],
   "source": [
    "#generate mobility data for input with array\n",
    "data1 = np.load('5min_1node_data.npy')\n",
    "data100 = np.load('5min_100node_data_id.npy')\n",
    "\n",
    "print(len(data1))\n",
    "print(len(data100))\n",
    "print(data1[0])\n",
    "print(data100[0])"
   ]
  },
  {
   "cell_type": "code",
   "execution_count": 6,
   "metadata": {},
   "outputs": [
    {
     "name": "stdout",
     "output_type": "stream",
     "text": [
      "16800\n",
      "28000\n",
      "27500\n",
      "27500\n"
     ]
    }
   ],
   "source": [
    "data1_len = len(data1)\n",
    "data100_len = len(data100)\n",
    "print(len(data1))\n",
    "print(len(data100))\n",
    "\n",
    "x = []\n",
    "y = []\n",
    "for i in range(0, data100_len-500):\n",
    "  x.append([[data100[j][1],data100[j][2]] for j in range(i, i+500, 100)])\n",
    "  y.append([data100[i+500][1],data100[i+500][2]])\n",
    "print(len(x))\n",
    "print(len(y))"
   ]
  },
  {
   "cell_type": "code",
   "execution_count": 7,
   "metadata": {},
   "outputs": [
    {
     "name": "stdout",
     "output_type": "stream",
     "text": [
      "tensor([[5713.8970, 2061.4768],\n",
      "        [5713.8970, 2061.4768],\n",
      "        [5713.8970, 2061.4768],\n",
      "        [5713.8970, 2061.4768],\n",
      "        [5713.8970, 2061.4768]])\n",
      "tensor([5709.4053, 2065.0637])\n",
      "torch.Size([27500, 5, 2])\n",
      "torch.Size([27500, 2])\n"
     ]
    }
   ],
   "source": [
    "x = torch.tensor(x, dtype= torch.float32)\n",
    "y = torch.tensor(y, dtype = torch.float32)\n",
    "print(x[150])\n",
    "print(y[150])\n",
    "print(x.size())\n",
    "print(y.size())"
   ]
  },
  {
   "cell_type": "code",
   "execution_count": 8,
   "metadata": {},
   "outputs": [
    {
     "name": "stdout",
     "output_type": "stream",
     "text": [
      "27500\n"
     ]
    }
   ],
   "source": [
    "#initialization\n",
    "batch_size = 15\n",
    "#num_epochs = 10\n",
    "#input_size = 108\n",
    "#hidden_size = 216\n",
    "#layer_num = 3\n",
    "\n",
    "#input data to dataset\n",
    "class myselfDataset(Dataset):\n",
    "  def __init__(self, x, y):\n",
    "    self.x  = x\n",
    "    self.y  = y\n",
    "    self.len = len(x)\n",
    "  def __getitem__(self,index):\n",
    "    return self.x[index], self.y[index]\n",
    "  def __len__(self):\n",
    "    return self.len\n",
    "\n",
    "#random distribution with train and test set\n",
    "def get_dataloader(batch_size):\n",
    "  dataset = myselfDataset(x,y)\n",
    "  train_len = int(0.9 * len(dataset))\n",
    "  length = [train_len, len(dataset)-train_len]\n",
    "  trainset, validset = random_split(dataset,length)\n",
    "  #train_x = x[:train_len]\n",
    "  #train_y = y[:train_len]\n",
    "  #valid_x = x[train_len:]\n",
    "  #valid_y = y[train_len:]\n",
    "  #trainset = myselfDataset(train_x, train_y)\n",
    "  #validset = myselfDataset(valid_x, valid_y)\n",
    "  train_loader = DataLoader(dataset=trainset, batch_size=batch_size, shuffle=True)\n",
    "  valid_loader = DataLoader(dataset=validset, batch_size=batch_size, shuffle=True)\n",
    "  return train_loader, valid_loader\n",
    "\n",
    "#data_length\n",
    "length = len(x)\n",
    "print(length)\n",
    "\n",
    "dataset = myselfDataset(x,y)\n",
    "train_loader = DataLoader(dataset=dataset, batch_size=batch_size, shuffle=True)\n",
    "#train_loader, valid_loader = get_dataloader(batch_size)\n",
    "#print(train_loader)\n",
    "#print(valid_loader)"
   ]
  },
  {
   "cell_type": "code",
   "execution_count": 15,
   "metadata": {},
   "outputs": [
    {
     "name": "stdout",
     "output_type": "stream",
     "text": [
      "epoch = 1, Mad = 3903.9517063497133, y's prediction =[4563.48046875, 4890.02880859375], label = tensor([1549.2596, 1015.8469])\n",
      "epoch = 2, Mad = 3826.698990731775, y's prediction =[4597.02587890625, 4937.5576171875], label = tensor([ 814.6652, 7572.3164])\n",
      "epoch = 3, Mad = 3825.7538455354425, y's prediction =[4523.8603515625, 4956.064453125], label = tensor([4187.0337, 7237.5820])\n",
      "epoch = 4, Mad = 3826.102413425698, y's prediction =[4580.146484375, 4925.59619140625], label = tensor([6154.5757, 8174.9478])\n",
      "epoch = 5, Mad = 3826.636429449795, y's prediction =[4489.267578125, 4952.62744140625], label = tensor([1647.8033,  212.8964])\n"
     ]
    },
    {
     "ename": "KeyboardInterrupt",
     "evalue": "",
     "output_type": "error",
     "traceback": [
      "\u001b[0;31m---------------------------------------------------------------------------\u001b[0m",
      "\u001b[0;31mKeyboardInterrupt\u001b[0m                         Traceback (most recent call last)",
      "\u001b[0;32m<ipython-input-15-dfbab9c79b19>\u001b[0m in \u001b[0;36m<module>\u001b[0;34m\u001b[0m\n\u001b[1;32m     81\u001b[0m         \u001b[0;31m#backward\u001b[0m\u001b[0;34m\u001b[0m\u001b[0;34m\u001b[0m\u001b[0;34m\u001b[0m\u001b[0m\n\u001b[1;32m     82\u001b[0m         \u001b[0moptimizer\u001b[0m\u001b[0;34m.\u001b[0m\u001b[0mzero_grad\u001b[0m\u001b[0;34m(\u001b[0m\u001b[0;34m)\u001b[0m\u001b[0;34m\u001b[0m\u001b[0;34m\u001b[0m\u001b[0m\n\u001b[0;32m---> 83\u001b[0;31m         \u001b[0ml\u001b[0m\u001b[0;34m.\u001b[0m\u001b[0mbackward\u001b[0m\u001b[0;34m(\u001b[0m\u001b[0;34m)\u001b[0m\u001b[0;34m\u001b[0m\u001b[0;34m\u001b[0m\u001b[0m\n\u001b[0m\u001b[1;32m     84\u001b[0m         \u001b[0moptimizer\u001b[0m\u001b[0;34m.\u001b[0m\u001b[0mstep\u001b[0m\u001b[0;34m(\u001b[0m\u001b[0;34m)\u001b[0m\u001b[0;34m\u001b[0m\u001b[0;34m\u001b[0m\u001b[0m\n\u001b[1;32m     85\u001b[0m \u001b[0;34m\u001b[0m\u001b[0m\n",
      "\u001b[0;32m~/anaconda3/lib/python3.7/site-packages/torch/tensor.py\u001b[0m in \u001b[0;36mbackward\u001b[0;34m(self, gradient, retain_graph, create_graph)\u001b[0m\n\u001b[1;32m    219\u001b[0m                 \u001b[0mretain_graph\u001b[0m\u001b[0;34m=\u001b[0m\u001b[0mretain_graph\u001b[0m\u001b[0;34m,\u001b[0m\u001b[0;34m\u001b[0m\u001b[0;34m\u001b[0m\u001b[0m\n\u001b[1;32m    220\u001b[0m                 create_graph=create_graph)\n\u001b[0;32m--> 221\u001b[0;31m         \u001b[0mtorch\u001b[0m\u001b[0;34m.\u001b[0m\u001b[0mautograd\u001b[0m\u001b[0;34m.\u001b[0m\u001b[0mbackward\u001b[0m\u001b[0;34m(\u001b[0m\u001b[0mself\u001b[0m\u001b[0;34m,\u001b[0m \u001b[0mgradient\u001b[0m\u001b[0;34m,\u001b[0m \u001b[0mretain_graph\u001b[0m\u001b[0;34m,\u001b[0m \u001b[0mcreate_graph\u001b[0m\u001b[0;34m)\u001b[0m\u001b[0;34m\u001b[0m\u001b[0;34m\u001b[0m\u001b[0m\n\u001b[0m\u001b[1;32m    222\u001b[0m \u001b[0;34m\u001b[0m\u001b[0m\n\u001b[1;32m    223\u001b[0m     \u001b[0;32mdef\u001b[0m \u001b[0mregister_hook\u001b[0m\u001b[0;34m(\u001b[0m\u001b[0mself\u001b[0m\u001b[0;34m,\u001b[0m \u001b[0mhook\u001b[0m\u001b[0;34m)\u001b[0m\u001b[0;34m:\u001b[0m\u001b[0;34m\u001b[0m\u001b[0;34m\u001b[0m\u001b[0m\n",
      "\u001b[0;32m~/anaconda3/lib/python3.7/site-packages/torch/autograd/__init__.py\u001b[0m in \u001b[0;36mbackward\u001b[0;34m(tensors, grad_tensors, retain_graph, create_graph, grad_variables)\u001b[0m\n\u001b[1;32m    124\u001b[0m \u001b[0;34m\u001b[0m\u001b[0m\n\u001b[1;32m    125\u001b[0m     \u001b[0mgrad_tensors_\u001b[0m \u001b[0;34m=\u001b[0m \u001b[0m_tensor_or_tensors_to_tuple\u001b[0m\u001b[0;34m(\u001b[0m\u001b[0mgrad_tensors\u001b[0m\u001b[0;34m,\u001b[0m \u001b[0mlen\u001b[0m\u001b[0;34m(\u001b[0m\u001b[0mtensors\u001b[0m\u001b[0;34m)\u001b[0m\u001b[0;34m)\u001b[0m\u001b[0;34m\u001b[0m\u001b[0;34m\u001b[0m\u001b[0m\n\u001b[0;32m--> 126\u001b[0;31m     \u001b[0mgrad_tensors_\u001b[0m \u001b[0;34m=\u001b[0m \u001b[0m_make_grads\u001b[0m\u001b[0;34m(\u001b[0m\u001b[0mtensors\u001b[0m\u001b[0;34m,\u001b[0m \u001b[0mgrad_tensors_\u001b[0m\u001b[0;34m)\u001b[0m\u001b[0;34m\u001b[0m\u001b[0;34m\u001b[0m\u001b[0m\n\u001b[0m\u001b[1;32m    127\u001b[0m     \u001b[0;32mif\u001b[0m \u001b[0mretain_graph\u001b[0m \u001b[0;32mis\u001b[0m \u001b[0;32mNone\u001b[0m\u001b[0;34m:\u001b[0m\u001b[0;34m\u001b[0m\u001b[0;34m\u001b[0m\u001b[0m\n\u001b[1;32m    128\u001b[0m         \u001b[0mretain_graph\u001b[0m \u001b[0;34m=\u001b[0m \u001b[0mcreate_graph\u001b[0m\u001b[0;34m\u001b[0m\u001b[0;34m\u001b[0m\u001b[0m\n",
      "\u001b[0;32m~/anaconda3/lib/python3.7/site-packages/torch/autograd/__init__.py\u001b[0m in \u001b[0;36m_make_grads\u001b[0;34m(outputs, grads)\u001b[0m\n\u001b[1;32m     49\u001b[0m                 \u001b[0;32mif\u001b[0m \u001b[0mout\u001b[0m\u001b[0;34m.\u001b[0m\u001b[0mnumel\u001b[0m\u001b[0;34m(\u001b[0m\u001b[0;34m)\u001b[0m \u001b[0;34m!=\u001b[0m \u001b[0;36m1\u001b[0m\u001b[0;34m:\u001b[0m\u001b[0;34m\u001b[0m\u001b[0;34m\u001b[0m\u001b[0m\n\u001b[1;32m     50\u001b[0m                     \u001b[0;32mraise\u001b[0m \u001b[0mRuntimeError\u001b[0m\u001b[0;34m(\u001b[0m\u001b[0;34m\"grad can be implicitly created only for scalar outputs\"\u001b[0m\u001b[0;34m)\u001b[0m\u001b[0;34m\u001b[0m\u001b[0;34m\u001b[0m\u001b[0m\n\u001b[0;32m---> 51\u001b[0;31m                 \u001b[0mnew_grads\u001b[0m\u001b[0;34m.\u001b[0m\u001b[0mappend\u001b[0m\u001b[0;34m(\u001b[0m\u001b[0mtorch\u001b[0m\u001b[0;34m.\u001b[0m\u001b[0mones_like\u001b[0m\u001b[0;34m(\u001b[0m\u001b[0mout\u001b[0m\u001b[0;34m,\u001b[0m \u001b[0mmemory_format\u001b[0m\u001b[0;34m=\u001b[0m\u001b[0mtorch\u001b[0m\u001b[0;34m.\u001b[0m\u001b[0mpreserve_format\u001b[0m\u001b[0;34m)\u001b[0m\u001b[0;34m)\u001b[0m\u001b[0;34m\u001b[0m\u001b[0;34m\u001b[0m\u001b[0m\n\u001b[0m\u001b[1;32m     52\u001b[0m             \u001b[0;32melse\u001b[0m\u001b[0;34m:\u001b[0m\u001b[0;34m\u001b[0m\u001b[0;34m\u001b[0m\u001b[0m\n\u001b[1;32m     53\u001b[0m                 \u001b[0mnew_grads\u001b[0m\u001b[0;34m.\u001b[0m\u001b[0mappend\u001b[0m\u001b[0;34m(\u001b[0m\u001b[0;32mNone\u001b[0m\u001b[0;34m)\u001b[0m\u001b[0;34m\u001b[0m\u001b[0;34m\u001b[0m\u001b[0m\n",
      "\u001b[0;31mKeyboardInterrupt\u001b[0m: "
     ]
    }
   ],
   "source": [
    "#initialization\n",
    "#batch_size = 20\n",
    "num_epochs = 1500\n",
    "input_size = 2\n",
    "hidden_size = 2\n",
    "layer_num = 5\n",
    "\n",
    "\n",
    "#LSTM model\n",
    "class LSTM(nn.Module):\n",
    "    def __init__(self, input_size, hidden_size, layer_num):\n",
    "        super(LSTM, self).__init__()\n",
    "        self.hidden_size = hidden_size\n",
    "        self.input_size = input_size\n",
    "        self.layer_num = layer_num\n",
    "\n",
    "        self.lstm = nn.LSTM(input_size, hidden_size, layer_num, batch_first=True, dropout=0.2)\n",
    "        #self.lstm1 = nn.LSTMCell(self.input_size, self.hidden_size)\n",
    "        #self.lstm2 = nn.LSTMCell(self.hidden_size, self.hidden_size)\n",
    "        #self.lstm3 = nn.LSTMCell(self.hidden_size, self.hidden_size)\n",
    "        self.fc1 = nn.Linear(hidden_size, input_size)\n",
    "        #self.fc2 = nn.Linear(108, 2)\n",
    "\n",
    "        #self.relu = nn.ReLU()\n",
    "\n",
    "    #forward\n",
    "    def forward(self, x):\n",
    "        # Initialize hidden state with zeros\n",
    "        h0 = torch.zeros(self.layer_num, x.size(0), self.hidden_size).requires_grad_().to(device)\n",
    "        # Initialize cell state\n",
    "        c0 = torch.zeros(self.layer_num, x.size(0), self.hidden_size).requires_grad_().to(device)\n",
    "        #h1 = torch.zero(x.size(0), self.hidden_size, dtype=torch.float32).to(device)\n",
    "        #c1 = torch.zero(x.size(0), self.hidden_size, dtype=torch.float32).to(device)\n",
    "        #h2 = torch.zero(x.size(0), self.hidden_size, dtype=torch.float32).to(device)\n",
    "        #c2 = torch.zero(x.size(0), self.hidden_size, dtype=torch.float32).to(device)\n",
    "        #h3 = torch.zero(x.size(0), self.hidden_size, dtype=torch.float32).to(device)\n",
    "        #c3 = torch.zero(x.size(0), self.hidden_size, dtype=torch.float32).to(device)\n",
    "\n",
    "        # weights initialization\n",
    "\t      #torch.nn.init.xavier_normal_(h1)\n",
    "\t      #torch.nn.init.xavier_normal_(c1)\n",
    "\t      #torch.nn.init.xavier_normal_(h2)\n",
    "\t      #torch.nn.init.xavier_normal_(c2)\n",
    "        #torch.nn.init.xavier_normal_(h3)\n",
    "        #torch.nn.init.xavier_normal_(c3)\n",
    "\n",
    "        out, _ = self.lstm(x, (h0.detach(), c0.detach()))  \n",
    "        out = self.fc1(out[:, -1, :])\n",
    "        #out = self.fc2(out)\n",
    "        return out\n",
    "\n",
    "#loss and optimizer\n",
    "lstm = LSTM(input_size, hidden_size, layer_num).to(device)\n",
    "learning_rate = 0.05\n",
    "loss = nn.MSELoss().to(device)\n",
    "optimizer = optim.SGD(lstm.parameters(), lr=learning_rate, momentum = 0.9)\n",
    "\n",
    "#lambda1 = lambda epoch: 0.95\n",
    "scheduler = lr_scheduler.StepLR(optimizer, step_size=100, gamma=0.1) \n",
    "\n",
    "####hidden_state and cell_state initialize randomly\n",
    "##h0 = torch.randn(layer_num, batch_size , hidden_size).to(device)\n",
    "##c0 = torch.randn(layer_num, batch_size , hidden_size).to(device)\n",
    "\n",
    "#training loop\n",
    "FADarray = []\n",
    "MADarray = []\n",
    "\n",
    "for epoch in range(num_epochs):\n",
    "      MADdist = 0\n",
    "      for i, (inputs, labels) in enumerate(train_loader):\n",
    "        #print(inputs)\n",
    "        #inputs = inputs.reshape(batch_size, 60, input_size).to(device)\n",
    "        #print(inputs.shape)\n",
    "\n",
    "        #forward\n",
    "        y_pred = lstm(inputs.to(device))\n",
    "        #print(y_pred)\n",
    "        l = loss(y_pred, labels.to(device))\n",
    "\n",
    "        #backward\n",
    "        optimizer.zero_grad()\n",
    "        l.backward()\n",
    "        optimizer.step()\n",
    "    \n",
    "        MADdistx = 0\n",
    "        for x in range(len(y_pred)):\n",
    "            y = y_pred[x].cpu().detach().numpy()\n",
    "            MADa = np.array([y[0], y[1]])\n",
    "            MADb = np.array([labels[x][0], labels[x][1]])\n",
    "            MADdistx += np.sqrt(np.sum(np.square(MADa - MADb)))\n",
    "        MADdist += MADdistx/len(y_pred)\n",
    "    \n",
    "        #if (i+1) % 200 == 0:\n",
    "          #print(f\"epoch = {epoch+1}, step = {i+1} , y's prediction = {y_pred[0].tolist()}, loss = {l.item():.4f}\")\n",
    "      #FADdisty = 0\n",
    "      #for y in range(len(y_pred)):\n",
    "          #FADa = y_pred[y].cpu().detach().numpy()\n",
    "          #FADb = np.array(labels[y])\n",
    "          #FADdisty += np.sqrt(np.sum(np.square(FADa - FADb)))\n",
    "      #FADdist = FADdisty/len(y_pred)\n",
    "      MADdist = MADdist/len(train_loader)\n",
    "      print(f\"epoch = {epoch+1}, Mad = {MADdist}, y's prediction ={y_pred[0].tolist()}, label = {labels[0]}\")\n",
    "      #FADarray.append(FADdist)\n",
    "      MADarray.append(MADdist)\n",
    "      scheduler.step()\n"
   ]
  },
  {
   "cell_type": "code",
   "execution_count": null,
   "metadata": {},
   "outputs": [],
   "source": [
    "import matplotlib.pyplot as plt \n",
    "epocharray = []\n",
    "epocharray = [i for i in range(num_epochs)]\n",
    "\n",
    "#plt.plot(epocharray,FADarray, color=\"blue\")\n",
    "plt.plot(epocharray,MADarray, color=\"red\")\n",
    "plt.title(\"LSTM_100node\",fontsize=15)\n",
    "plt.xlabel(\"Epoch\",fontsize=13)\n",
    "plt.ylabel(\"Meters\",fontsize=13)\n",
    "plt.savefig('LSTM_100node.png')\n",
    "plt.show()"
   ]
  },
  {
   "cell_type": "code",
   "execution_count": null,
   "metadata": {},
   "outputs": [],
   "source": []
  }
 ],
 "metadata": {
  "kernelspec": {
   "display_name": "Python 3",
   "language": "python",
   "name": "python3"
  },
  "language_info": {
   "codemirror_mode": {
    "name": "ipython",
    "version": 3
   },
   "file_extension": ".py",
   "mimetype": "text/x-python",
   "name": "python",
   "nbconvert_exporter": "python",
   "pygments_lexer": "ipython3",
   "version": "3.7.6"
  }
 },
 "nbformat": 4,
 "nbformat_minor": 5
}
